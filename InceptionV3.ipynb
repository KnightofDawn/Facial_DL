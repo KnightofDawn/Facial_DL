{
 "cells": [
  {
   "cell_type": "code",
   "execution_count": 1,
   "metadata": {},
   "outputs": [
    {
     "name": "stderr",
     "output_type": "stream",
     "text": [
      "Using TensorFlow backend.\n"
     ]
    }
   ],
   "source": [
    "from keras.preprocessing.image import ImageDataGenerator\n",
    "from keras.applications import InceptionV3\n",
    "#If you want the Keras modules you write to be compatible with both \n",
    "#Theano (th) and TensorFlow (tf), you have to write them via the abstract Keras backend API.\n",
    "from keras import backend as K\n",
    "from keras.models import Sequential\n",
    "from keras.layers import Conv2D\n",
    "from keras.layers import AveragePooling2D, GlobalAveragePooling2D\n",
    "from keras.layers import Flatten\n",
    "from keras.layers import Dense\n",
    "from keras.models import Model"
   ]
  },
  {
   "cell_type": "code",
   "execution_count": 2,
   "metadata": {},
   "outputs": [
    {
     "name": "stdout",
     "output_type": "stream",
     "text": [
      "Found 23 images belonging to 2 classes.\n"
     ]
    },
    {
     "data": {
      "text/plain": [
       "{'False_Images': 0, 'Processed_Images': 1}"
      ]
     },
     "execution_count": 2,
     "metadata": {},
     "output_type": "execute_result"
    }
   ],
   "source": [
    "image_path=\"data\"\n",
    "IMG_SIZE=100\n",
    "\n",
    "#https://keras.io/preprocessing/image/#imagedatagenerator-class\n",
    "datagen=ImageDataGenerator().flow_from_directory(image_path,target_size=(100,100), color_mode='rgb', batch_size=10)\n",
    "\n",
    "STEP_SIZE=datagen.n//datagen.batch_size\n",
    "datagen.class_indices"
   ]
  },
  {
   "cell_type": "code",
   "execution_count": 3,
   "metadata": {},
   "outputs": [
    {
     "name": "stderr",
     "output_type": "stream",
     "text": [
      "WARNING: Logging before flag parsing goes to stderr.\n",
      "W0911 14:59:11.664692 13316 deprecation_wrapper.py:119] From C:\\Users\\sidha\\.conda\\envs\\Keras\\lib\\site-packages\\keras\\backend\\tensorflow_backend.py:74: The name tf.get_default_graph is deprecated. Please use tf.compat.v1.get_default_graph instead.\n",
      "\n",
      "W0911 14:59:11.679705 13316 deprecation_wrapper.py:119] From C:\\Users\\sidha\\.conda\\envs\\Keras\\lib\\site-packages\\keras\\backend\\tensorflow_backend.py:517: The name tf.placeholder is deprecated. Please use tf.compat.v1.placeholder instead.\n",
      "\n",
      "W0911 14:59:11.682708 13316 deprecation_wrapper.py:119] From C:\\Users\\sidha\\.conda\\envs\\Keras\\lib\\site-packages\\keras\\backend\\tensorflow_backend.py:4138: The name tf.random_uniform is deprecated. Please use tf.random.uniform instead.\n",
      "\n",
      "W0911 14:59:11.701725 13316 deprecation_wrapper.py:119] From C:\\Users\\sidha\\.conda\\envs\\Keras\\lib\\site-packages\\keras\\backend\\tensorflow_backend.py:174: The name tf.get_default_session is deprecated. Please use tf.compat.v1.get_default_session instead.\n",
      "\n",
      "W0911 14:59:11.702726 13316 deprecation_wrapper.py:119] From C:\\Users\\sidha\\.conda\\envs\\Keras\\lib\\site-packages\\keras\\backend\\tensorflow_backend.py:181: The name tf.ConfigProto is deprecated. Please use tf.compat.v1.ConfigProto instead.\n",
      "\n",
      "W0911 14:59:12.644585 13316 deprecation_wrapper.py:119] From C:\\Users\\sidha\\.conda\\envs\\Keras\\lib\\site-packages\\keras\\backend\\tensorflow_backend.py:1834: The name tf.nn.fused_batch_norm is deprecated. Please use tf.compat.v1.nn.fused_batch_norm instead.\n",
      "\n",
      "W0911 14:59:12.915832 13316 deprecation_wrapper.py:119] From C:\\Users\\sidha\\.conda\\envs\\Keras\\lib\\site-packages\\keras\\backend\\tensorflow_backend.py:3976: The name tf.nn.max_pool is deprecated. Please use tf.nn.max_pool2d instead.\n",
      "\n",
      "W0911 14:59:13.504377 13316 deprecation_wrapper.py:119] From C:\\Users\\sidha\\.conda\\envs\\Keras\\lib\\site-packages\\keras\\backend\\tensorflow_backend.py:3980: The name tf.nn.avg_pool is deprecated. Please use tf.nn.avg_pool2d instead.\n",
      "\n"
     ]
    }
   ],
   "source": [
    "base_model=InceptionV3(include_top=False, weights='imagenet')\n",
    "x=base_model.output\n",
    "x=GlobalAveragePooling2D()(x)\n",
    "#we add dense layers so that the model can learn more complex functions and classify for better results.\n",
    "x=Dense(1024,activation='relu')(x)\n",
    "x=Dense(512,activation='relu')(x)\n",
    "#final layer with softmax activation\n",
    "preds=Dense(2,activation='softmax')(x)\n",
    "\n",
    "model=Model(inputs=base_model.input,outputs=preds)"
   ]
  },
  {
   "cell_type": "code",
   "execution_count": 4,
   "metadata": {},
   "outputs": [],
   "source": [
    "\n",
    "for layer in model.layers[:20]:\n",
    "    layer.trainable=False\n",
    "for layer in model.layers[20:]:\n",
    "    layer.trainable=True"
   ]
  },
  {
   "cell_type": "code",
   "execution_count": 6,
   "metadata": {},
   "outputs": [
    {
     "name": "stdout",
     "output_type": "stream",
     "text": [
      "Epoch 1/10\n",
      "2/2 [==============================] - 12s 6s/step - loss: 0.6650 - acc: 0.6500\n",
      "Epoch 2/10\n",
      "2/2 [==============================] - 0s 79ms/step - loss: 1.3938 - acc: 0.8632\n",
      "Epoch 3/10\n",
      "2/2 [==============================] - 0s 76ms/step - loss: 0.2489 - acc: 0.9410\n",
      "Epoch 4/10\n",
      "2/2 [==============================] - 0s 79ms/step - loss: 0.5797 - acc: 0.8000\n",
      "Epoch 5/10\n",
      "2/2 [==============================] - 0s 76ms/step - loss: 0.0471 - acc: 1.0000\n",
      "Epoch 6/10\n",
      "2/2 [==============================] - 0s 79ms/step - loss: 0.2523 - acc: 0.8043\n",
      "Epoch 7/10\n",
      "2/2 [==============================] - 0s 80ms/step - loss: 0.3049 - acc: 0.9000\n",
      "Epoch 8/10\n",
      "2/2 [==============================] - 0s 78ms/step - loss: 2.0946 - acc: 0.8632\n",
      "Epoch 9/10\n",
      "2/2 [==============================] - 0s 76ms/step - loss: 0.2250 - acc: 0.9410\n",
      "Epoch 10/10\n",
      "2/2 [==============================] - 0s 81ms/step - loss: 0.3879 - acc: 0.9500\n"
     ]
    },
    {
     "data": {
      "text/plain": [
       "<keras.callbacks.History at 0x2796db909b0>"
      ]
     },
     "execution_count": 6,
     "metadata": {},
     "output_type": "execute_result"
    }
   ],
   "source": [
    "model.compile(optimizer='Adam',loss='categorical_crossentropy',metrics=['accuracy'])\n",
    "model.fit_generator(generator=datagen,\n",
    "                   steps_per_epoch=STEP_SIZE,\n",
    "                   epochs=10)"
   ]
  }
 ],
 "metadata": {
  "kernelspec": {
   "display_name": "Python 3",
   "language": "python",
   "name": "python3"
  },
  "language_info": {
   "codemirror_mode": {
    "name": "ipython",
    "version": 3
   },
   "file_extension": ".py",
   "mimetype": "text/x-python",
   "name": "python",
   "nbconvert_exporter": "python",
   "pygments_lexer": "ipython3",
   "version": "3.6.8"
  }
 },
 "nbformat": 4,
 "nbformat_minor": 2
}
