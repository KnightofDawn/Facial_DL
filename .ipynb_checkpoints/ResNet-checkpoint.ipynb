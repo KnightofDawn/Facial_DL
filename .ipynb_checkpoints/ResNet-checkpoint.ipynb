{
 "cells": [
  {
   "cell_type": "code",
   "execution_count": 1,
   "metadata": {},
   "outputs": [
    {
     "name": "stderr",
     "output_type": "stream",
     "text": [
      "Using TensorFlow backend.\n"
     ]
    }
   ],
   "source": [
    "from keras.preprocessing.image import ImageDataGenerator\n",
    "from keras.applications import ResNet50\n",
    "#If you want the Keras modules you write to be compatible with both \n",
    "#Theano (th) and TensorFlow (tf), you have to write them via the abstract Keras backend API.\n",
    "from keras import backend as K\n",
    "from keras.models import Sequential\n",
    "from keras.layers import Conv2D\n",
    "from keras.layers import AveragePooling2D, GlobalAveragePooling2D\n",
    "from keras.layers import Flatten\n",
    "from keras.layers import Dense, Dropout\n",
    "from keras.models import Model\n",
    "#Till we have more data, we use ceil() at validation steps\n",
    "import math"
   ]
  },
  {
   "cell_type": "code",
   "execution_count": 2,
   "metadata": {},
   "outputs": [
    {
     "name": "stdout",
     "output_type": "stream",
     "text": [
      "Found 22 images belonging to 2 classes.\n",
      "Found 5 images belonging to 2 classes.\n",
      "Classes :  {'False_Images': 0, 'Processed_Images': 1}\n",
      "VALIDATION_STEPS :  1\n"
     ]
    }
   ],
   "source": [
    "image_path=\"data\"\n",
    "IMG_SIZE=100\n",
    "\n",
    "#https://keras.io/preprocessing/image/#imagedatagenerator-class\n",
    "data_generator=ImageDataGenerator(validation_split=0.2)\n",
    "\n",
    "train_data = data_generator.flow_from_directory(image_path,target_size=(100,100), color_mode='rgb', batch_size=10, subset='training')\n",
    "valid_data = data_generator.flow_from_directory(image_path,target_size=(100,100), color_mode='rgb', batch_size=10, subset='validation')\n",
    "\n",
    "STEP_SIZE = train_data.n//train_data.batch_size\n",
    "VALIDATION_STEPS = math.ceil(valid_data.n / valid_data.batch_size)\n",
    "\n",
    "print(\"Classes : \",train_data.class_indices)\n",
    "print(\"VALIDATION_STEPS : \",VALIDATION_STEPS)"
   ]
  },
  {
   "cell_type": "code",
   "execution_count": 3,
   "metadata": {
    "scrolled": true
   },
   "outputs": [
    {
     "name": "stderr",
     "output_type": "stream",
     "text": [
      "WARNING: Logging before flag parsing goes to stderr.\n",
      "W0912 15:13:17.085102  5932 deprecation_wrapper.py:119] From C:\\Users\\sidha\\.conda\\envs\\Keras\\lib\\site-packages\\keras\\backend\\tensorflow_backend.py:74: The name tf.get_default_graph is deprecated. Please use tf.compat.v1.get_default_graph instead.\n",
      "\n",
      "W0912 15:13:17.100113  5932 deprecation_wrapper.py:119] From C:\\Users\\sidha\\.conda\\envs\\Keras\\lib\\site-packages\\keras\\backend\\tensorflow_backend.py:517: The name tf.placeholder is deprecated. Please use tf.compat.v1.placeholder instead.\n",
      "\n",
      "W0912 15:13:17.105118  5932 deprecation_wrapper.py:119] From C:\\Users\\sidha\\.conda\\envs\\Keras\\lib\\site-packages\\keras\\backend\\tensorflow_backend.py:4185: The name tf.truncated_normal is deprecated. Please use tf.random.truncated_normal instead.\n",
      "\n",
      "W0912 15:13:17.132141  5932 deprecation_wrapper.py:119] From C:\\Users\\sidha\\.conda\\envs\\Keras\\lib\\site-packages\\keras\\backend\\tensorflow_backend.py:174: The name tf.get_default_session is deprecated. Please use tf.compat.v1.get_default_session instead.\n",
      "\n",
      "W0912 15:13:17.133142  5932 deprecation_wrapper.py:119] From C:\\Users\\sidha\\.conda\\envs\\Keras\\lib\\site-packages\\keras\\backend\\tensorflow_backend.py:181: The name tf.ConfigProto is deprecated. Please use tf.compat.v1.ConfigProto instead.\n",
      "\n",
      "W0912 15:13:18.040968  5932 deprecation_wrapper.py:119] From C:\\Users\\sidha\\.conda\\envs\\Keras\\lib\\site-packages\\keras\\backend\\tensorflow_backend.py:1834: The name tf.nn.fused_batch_norm is deprecated. Please use tf.compat.v1.nn.fused_batch_norm instead.\n",
      "\n",
      "W0912 15:13:18.106027  5932 deprecation_wrapper.py:119] From C:\\Users\\sidha\\.conda\\envs\\Keras\\lib\\site-packages\\keras\\backend\\tensorflow_backend.py:3976: The name tf.nn.max_pool is deprecated. Please use tf.nn.max_pool2d instead.\n",
      "\n"
     ]
    }
   ],
   "source": [
    "base_model=ResNet50(include_top=False, weights='imagenet')\n",
    "x=base_model.output\n",
    "x=GlobalAveragePooling2D()(x)\n",
    "\n",
    "#we add dense layers so that the model can learn more complex functions and classify for better results.\n",
    "x=Dense(1024,activation='relu')(x)\n",
    "#x=Dropout(0.3)(x)\n",
    "#x=Dense(512,activation='relu')(x)\n",
    "#x = Dense(256,activation='relu')(x)\n",
    "#final layer with softmax activation\n",
    "preds=Dense(2,activation='softmax')(x)\n",
    "\n",
    "model=Model(inputs=base_model.input,outputs=preds)\n",
    "#model.summary()"
   ]
  },
  {
   "cell_type": "code",
   "execution_count": null,
   "metadata": {},
   "outputs": [
    {
     "name": "stderr",
     "output_type": "stream",
     "text": [
      "W0912 15:13:25.227498  5932 deprecation_wrapper.py:119] From C:\\Users\\sidha\\.conda\\envs\\Keras\\lib\\site-packages\\keras\\optimizers.py:790: The name tf.train.Optimizer is deprecated. Please use tf.compat.v1.train.Optimizer instead.\n",
      "\n",
      "W0912 15:13:25.364622  5932 deprecation.py:323] From C:\\Users\\sidha\\.conda\\envs\\Keras\\lib\\site-packages\\tensorflow\\python\\ops\\math_grad.py:1250: add_dispatch_support.<locals>.wrapper (from tensorflow.python.ops.array_ops) is deprecated and will be removed in a future version.\n",
      "Instructions for updating:\n",
      "Use tf.where in 2.0, which has the same broadcast rule as np.where\n"
     ]
    },
    {
     "name": "stdout",
     "output_type": "stream",
     "text": [
      "Epoch 1/15\n"
     ]
    }
   ],
   "source": [
    "for layer in model.layers[:10]:\n",
    "    layer.trainable=False\n",
    "for layer in model.layers[10:]:\n",
    "    layer.trainable=True\n",
    "    \n",
    "model.compile(optimizer=\"Adam\",loss=\"categorical_crossentropy\",metrics=[\"accuracy\"])\n",
    "history = model.fit_generator(generator=train_data,\n",
    "                   steps_per_epoch=STEP_SIZE,\n",
    "                   validation_data=valid_data,\n",
    "                   validation_steps=VALIDATION_STEPS,\n",
    "                   epochs=15)\n",
    "\n",
    "print(history.history.keys())"
   ]
  },
  {
   "cell_type": "code",
   "execution_count": null,
   "metadata": {},
   "outputs": [],
   "source": [
    "#Plotting graphs for better viewing the model\n",
    "import matplotlib.pyplot as plt\n",
    "\n",
    "# summarize history for accuracy\n",
    "plt.plot(history.history['acc'])\n",
    "plt.plot(history.history['val_acc'])\n",
    "plt.title('model accuracy')\n",
    "plt.ylabel('accuracy')\n",
    "plt.xlabel('epoch')\n",
    "plt.legend(['train', 'test'], loc='upper left')\n",
    "plt.show()\n",
    "\n",
    "# summarize history for loss\n",
    "plt.plot(history.history['loss'])\n",
    "plt.plot(history.history['val_loss'])\n",
    "plt.title('Model Loss')\n",
    "plt.ylabel('loss')\n",
    "plt.xlabel('epoch')\n",
    "plt.legend(['train', 'valid'], loc='upper right')\n",
    "plt.show()"
   ]
  }
 ],
 "metadata": {
  "kernelspec": {
   "display_name": "Python 3",
   "language": "python",
   "name": "python3"
  },
  "language_info": {
   "codemirror_mode": {
    "name": "ipython",
    "version": 3
   },
   "file_extension": ".py",
   "mimetype": "text/x-python",
   "name": "python",
   "nbconvert_exporter": "python",
   "pygments_lexer": "ipython3",
   "version": "3.6.8"
  }
 },
 "nbformat": 4,
 "nbformat_minor": 2
}
