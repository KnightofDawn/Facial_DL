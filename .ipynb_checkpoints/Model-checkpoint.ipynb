{
 "cells": [
  {
   "cell_type": "code",
   "execution_count": 1,
   "metadata": {},
   "outputs": [
    {
     "name": "stderr",
     "output_type": "stream",
     "text": [
      "Using TensorFlow backend.\n"
     ]
    }
   ],
   "source": [
    "from keras.preprocessing.image import ImageDataGenerator\n",
    "#If you want the Keras modules you write to be compatible with both \n",
    "#Theano (th) and TensorFlow (tf), you have to write them via the abstract Keras backend API.\n",
    "from keras import backend as K\n",
    "from keras.models import Sequential\n",
    "from keras.layers import Conv2D\n",
    "from keras.layers import AveragePooling2D\n",
    "from keras.layers import Flatten\n",
    "from keras.layers import Dense"
   ]
  },
  {
   "cell_type": "code",
   "execution_count": 18,
   "metadata": {},
   "outputs": [
    {
     "name": "stdout",
     "output_type": "stream",
     "text": [
      "Found 25 images belonging to 2 classes.\n"
     ]
    },
    {
     "data": {
      "text/plain": [
       "{'False_Images': 0, 'Processed_Images': 1}"
      ]
     },
     "execution_count": 18,
     "metadata": {},
     "output_type": "execute_result"
    }
   ],
   "source": [
    "image_path=\"data\"\n",
    "IMG_SIZE=100\n",
    "\n",
    "#https://keras.io/preprocessing/image/#imagedatagenerator-class\n",
    "datagen=ImageDataGenerator().flow_from_directory(image_path,target_size=(100,100), color_mode='grayscale', batch_size=10)\n",
    "\n",
    "STEP_SIZE=datagen.n//datagen.batch_size\n",
    "datagen.class_indices\n"
   ]
  },
  {
   "cell_type": "code",
   "execution_count": 4,
   "metadata": {},
   "outputs": [
    {
     "name": "stdout",
     "output_type": "stream",
     "text": [
      "[LOG] Training CNN\n",
      "Epoch 1/10\n",
      "2/2 [==============================] - 1s 306ms/step - loss: 2.6269 - acc: 0.4429\n",
      "Epoch 2/10\n",
      "2/2 [==============================] - 0s 7ms/step - loss: 1.6437 - acc: 0.7500\n",
      "Epoch 3/10\n",
      "2/2 [==============================] - 0s 7ms/step - loss: 1.6779 - acc: 0.4214\n",
      "Epoch 4/10\n",
      "2/2 [==============================] - 0s 30ms/step - loss: 0.2002 - acc: 0.9429\n",
      "Epoch 5/10\n",
      "2/2 [==============================] - 0s 126ms/step - loss: 0.0586 - acc: 1.0000\n",
      "Epoch 6/10\n",
      "2/2 [==============================] - 0s 79ms/step - loss: 0.1368 - acc: 0.9714\n",
      "Epoch 7/10\n",
      "2/2 [==============================] - 0s 51ms/step - loss: 0.1143 - acc: 0.9429\n",
      "Epoch 8/10\n",
      "2/2 [==============================] - 0s 121ms/step - loss: 0.0408 - acc: 1.0000\n",
      "Epoch 9/10\n",
      "2/2 [==============================] - 0s 68ms/step - loss: 0.0127 - acc: 1.0000\n",
      "Epoch 10/10\n",
      "2/2 [==============================] - 0s 60ms/step - loss: 0.0211 - acc: 1.0000\n"
     ]
    },
    {
     "data": {
      "text/plain": [
       "<keras.callbacks.History at 0x20b01417860>"
      ]
     },
     "execution_count": 4,
     "metadata": {},
     "output_type": "execute_result"
    }
   ],
   "source": [
    "model = Sequential()\n",
    "\n",
    "model.add(Conv2D(filters=6, kernel_size=(3, 3), activation='relu', input_shape=(IMG_SIZE,IMG_SIZE,1)))\n",
    "model.add(AveragePooling2D())\n",
    "\n",
    "model.add(Conv2D(filters=16, kernel_size=(3, 3), activation='relu'))\n",
    "model.add(AveragePooling2D())\n",
    "\n",
    "model.add(Flatten())\n",
    "\n",
    "model.add(Dense(units=120, activation='relu'))\n",
    "\n",
    "model.add(Dense(units=84, activation='relu'))\n",
    "\n",
    "model.add(Dense(units=2, activation = 'sigmoid'))\n",
    "\n",
    "model.compile(loss='binary_crossentropy', optimizer='adam', metrics=['accuracy'])\n",
    "\n",
    "print('[LOG] Training CNN')\n",
    "\n",
    "model.fit_generator(generator=datagen,steps_per_epoch=STEP_SIZE,epochs=10)"
   ]
  },
  {
   "cell_type": "code",
   "execution_count": 15,
   "metadata": {},
   "outputs": [
    {
     "data": {
      "text/plain": [
       "array([0, 0, 0, 0, 0, 0, 0, 1, 1, 1, 1, 1, 1, 1, 1, 1, 1, 1, 1, 1, 1, 1,\n",
       "       1, 1, 1])"
      ]
     },
     "execution_count": 15,
     "metadata": {},
     "output_type": "execute_result"
    }
   ],
   "source": [
    "from keras.preprocessing import image\n",
    "import numpy as np\n",
    "import keras\n",
    "\n",
    "#grayscale=True can also be passed\n",
    "test_image = image.load_img(\"data\\\\False_Images\\\\2.jpg\",color_mode='grayscale', target_size = (100, 100)) \n",
    "test_image = image.img_to_array(test_image)\n",
    "#predict expects an array of images.\n",
    "test_image = np.expand_dims(test_image, axis = 0)\n",
    "\n",
    "model.predict(test_image)\n",
    "datagen.classes"
   ]
  }
 ],
 "metadata": {
  "kernelspec": {
   "display_name": "Python 3",
   "language": "python",
   "name": "python3"
  },
  "language_info": {
   "codemirror_mode": {
    "name": "ipython",
    "version": 3
   },
   "file_extension": ".py",
   "mimetype": "text/x-python",
   "name": "python",
   "nbconvert_exporter": "python",
   "pygments_lexer": "ipython3",
   "version": "3.6.8"
  }
 },
 "nbformat": 4,
 "nbformat_minor": 2
}
