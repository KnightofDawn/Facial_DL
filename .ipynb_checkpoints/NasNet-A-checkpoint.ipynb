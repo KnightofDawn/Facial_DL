{
 "cells": [
  {
   "cell_type": "code",
   "execution_count": 1,
   "metadata": {},
   "outputs": [],
   "source": [
    "from tensorflow.keras.preprocessing.image import ImageDataGenerator\n",
    "from tensorflow.keras.applications import NASNetMobile\n",
    "from tensorflow.keras.models import Sequential\n",
    "from tensorflow.keras.layers import Conv2D\n",
    "from tensorflow.keras.layers import AveragePooling2D, GlobalAveragePooling2D\n",
    "from tensorflow.keras.layers import Flatten\n",
    "from tensorflow.keras.layers import Dense, Dropout\n",
    "from tensorflow.keras.models import Model\n",
    "#If you want the Keras modules you write to be compatible with both \n",
    "#Theano (th) and TensorFlow (tf), you have to write them via the abstract Keras backend API.\n",
    "#from keras import backend as K"
   ]
  },
  {
   "cell_type": "code",
   "execution_count": 2,
   "metadata": {},
   "outputs": [
    {
     "name": "stdout",
     "output_type": "stream",
     "text": [
      "Found 786 images belonging to 2 classes.\n",
      "Found 195 images belonging to 2 classes.\n",
      "Classes :  {'False_Images': 0, 'Processed_Images': 1}\n",
      "VALIDATION_STEPS :  19\n"
     ]
    }
   ],
   "source": [
    "image_path=\"data\"\n",
    "IMG_SIZE=224\n",
    "\n",
    "#https://keras.io/preprocessing/image/#imagedatagenerator-class\n",
    "data_generator=ImageDataGenerator(validation_split=0.2)\n",
    "\n",
    "train_data = data_generator.flow_from_directory(image_path,target_size=(IMG_SIZE,IMG_SIZE), color_mode='rgb', batch_size=10, subset='training')\n",
    "valid_data = data_generator.flow_from_directory(image_path,target_size=(IMG_SIZE,IMG_SIZE), color_mode='rgb', batch_size=10, subset='validation')\n",
    "\n",
    "STEP_SIZE = train_data.n//train_data.batch_size\n",
    "VALIDATION_STEPS = valid_data.n // valid_data.batch_size\n",
    "\n",
    "print(\"Classes : \",train_data.class_indices)\n",
    "print(\"VALIDATION_STEPS : \",VALIDATION_STEPS)"
   ]
  },
  {
   "cell_type": "code",
   "execution_count": null,
   "metadata": {},
   "outputs": [
    {
     "name": "stderr",
     "output_type": "stream",
     "text": [
      "WARNING: Logging before flag parsing goes to stderr.\n",
      "W0916 13:34:12.979475  8516 deprecation.py:506] From C:\\Users\\sidha\\.conda\\envs\\Keras\\lib\\site-packages\\tensorflow\\python\\ops\\init_ops.py:1251: calling VarianceScaling.__init__ (from tensorflow.python.ops.init_ops) with dtype is deprecated and will be removed in a future version.\n",
      "Instructions for updating:\n",
      "Call initializer instance with the dtype argument instead of passing it to the constructor\n"
     ]
    },
    {
     "name": "stdout",
     "output_type": "stream",
     "text": [
      "A local file was found, but it seems to be incomplete or outdated because the auto file hash does not match the original value of 1ed92395b5b598bdda52abe5c0dbfd63 so we will re-download the data.\n",
      "Downloading data from https://github.com/titu1994/Keras-NASNet/releases/download/v1.2/NASNet-mobile-no-top.h5\n",
      "19996672/19993432 [==============================] - 19s 1us/step\n"
     ]
    }
   ],
   "source": [
    "base_model=NASNetMobile(include_top=False, weights='imagenet')\n",
    "x=base_model.output\n",
    "x=GlobalAveragePooling2D()(x)\n",
    "\n",
    "#we add dense layers so that the model can learn more complex functions and classify for better results.\n",
    "x=Dense(1024,activation='relu')(x)\n",
    "#x=Dropout(0.3)(x)\n",
    "x=Dense(512,activation='relu')(x)\n",
    "#x = Dense(256,activation='relu')(x)\n",
    "#final layer with softmax activation\n",
    "preds=Dense(2,activation='softmax')(x)\n",
    "\n",
    "model=Model(inputs=base_model.input,outputs=preds)"
   ]
  },
  {
   "cell_type": "code",
   "execution_count": null,
   "metadata": {},
   "outputs": [],
   "source": [
    "model.summary()"
   ]
  }
 ],
 "metadata": {
  "kernelspec": {
   "display_name": "Python 3",
   "language": "python",
   "name": "python3"
  },
  "language_info": {
   "codemirror_mode": {
    "name": "ipython",
    "version": 3
   },
   "file_extension": ".py",
   "mimetype": "text/x-python",
   "name": "python",
   "nbconvert_exporter": "python",
   "pygments_lexer": "ipython3",
   "version": "3.6.8"
  }
 },
 "nbformat": 4,
 "nbformat_minor": 2
}
