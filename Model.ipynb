{
 "cells": [
  {
   "cell_type": "code",
   "execution_count": 1,
   "metadata": {},
   "outputs": [
    {
     "name": "stderr",
     "output_type": "stream",
     "text": [
      "Using TensorFlow backend.\n"
     ]
    }
   ],
   "source": [
    "from keras.preprocessing.image import ImageDataGenerator\n",
    "#If you want the Keras modules you write to be compatible with both \n",
    "#Theano (th) and TensorFlow (tf), you have to write them via the abstract Keras backend API.\n",
    "from keras import backend as K\n",
    "from keras.models import Sequential\n",
    "from keras.layers import Conv2D\n",
    "from keras.layers import AveragePooling2D\n",
    "from keras.layers import Flatten\n",
    "from keras.layers import Dense"
   ]
  },
  {
   "cell_type": "code",
   "execution_count": 19,
   "metadata": {},
   "outputs": [
    {
     "name": "stdout",
     "output_type": "stream",
     "text": [
      "Found 25 images belonging to 2 classes.\n"
     ]
    },
    {
     "data": {
      "text/plain": [
       "{'False_Images': 0, 'Processed_Images': 1}"
      ]
     },
     "execution_count": 19,
     "metadata": {},
     "output_type": "execute_result"
    }
   ],
   "source": [
    "image_path=\"data\"\n",
    "IMG_SIZE=100\n",
    "\n",
    "#https://keras.io/preprocessing/image/#imagedatagenerator-class\n",
    "datagen=ImageDataGenerator().flow_from_directory(image_path,target_size=(100,100), color_mode='grayscale', batch_size=10)\n",
    "\n",
    "STEP_SIZE=datagen.n//datagen.batch_size\n",
    "datagen.class_indices\n"
   ]
  },
  {
   "cell_type": "code",
   "execution_count": 25,
   "metadata": {},
   "outputs": [
    {
     "name": "stdout",
     "output_type": "stream",
     "text": [
      "[LOG] Training CNN\n",
      "Epoch 1/20\n",
      "2/2 [==============================] - 1s 467ms/step - loss: 4.4395 - acc: 0.5000\n",
      "Epoch 2/20\n",
      "2/2 [==============================] - 0s 7ms/step - loss: 3.2927 - acc: 0.7000\n",
      "Epoch 3/20\n",
      "2/2 [==============================] - 0s 7ms/step - loss: 1.6923 - acc: 0.8333\n",
      "Epoch 4/20\n",
      "2/2 [==============================] - 0s 7ms/step - loss: 1.8283 - acc: 0.7833\n",
      "Epoch 5/20\n",
      "2/2 [==============================] - 0s 11ms/step - loss: 2.0297 - acc: 0.8750\n",
      "Epoch 6/20\n",
      "2/2 [==============================] - 0s 29ms/step - loss: 1.4300 - acc: 0.8833\n",
      "Epoch 7/20\n",
      "2/2 [==============================] - 0s 118ms/step - loss: 2.8505 - acc: 0.7389\n",
      "Epoch 8/20\n",
      "2/2 [==============================] - 0s 84ms/step - loss: 1.6027 - acc: 0.9000\n",
      "Epoch 9/20\n",
      "2/2 [==============================] - 0s 129ms/step - loss: 2.3041 - acc: 0.8556\n",
      "Epoch 10/20\n",
      "2/2 [==============================] - 0s 57ms/step - loss: 2.0388 - acc: 0.8722\n",
      "Epoch 11/20\n",
      "2/2 [==============================] - 0s 59ms/step - loss: 1.2054 - acc: 0.9250\n",
      "Epoch 12/20\n",
      "2/2 [==============================] - 0s 113ms/step - loss: 3.4566 - acc: 0.7833\n",
      "Epoch 13/20\n",
      "2/2 [==============================] - 0s 94ms/step - loss: 1.5944 - acc: 0.9000\n",
      "Epoch 14/20\n",
      "2/2 [==============================] - 0s 132ms/step - loss: 2.3914 - acc: 0.8500\n",
      "Epoch 15/20\n",
      "2/2 [==============================] - 0s 56ms/step - loss: 1.3286 - acc: 0.9167\n",
      "Epoch 16/20\n",
      "2/2 [==============================] - 0s 81ms/step - loss: 1.5944 - acc: 0.9000\n",
      "Epoch 17/20\n",
      "2/2 [==============================] - 0s 131ms/step - loss: 2.3914 - acc: 0.8500\n",
      "Epoch 18/20\n",
      "2/2 [==============================] - 0s 41ms/step - loss: 0.4430 - acc: 0.9722\n",
      "Epoch 19/20\n",
      "2/2 [==============================] - 0s 94ms/step - loss: 2.7457 - acc: 0.8278\n",
      "Epoch 20/20\n",
      "2/2 [==============================] - 0s 89ms/step - loss: 1.1957 - acc: 0.9250\n"
     ]
    },
    {
     "data": {
      "text/plain": [
       "<keras.callbacks.History at 0x20c997e06a0>"
      ]
     },
     "execution_count": 25,
     "metadata": {},
     "output_type": "execute_result"
    }
   ],
   "source": [
    "model = Sequential()\n",
    "\n",
    "model.add(Conv2D(filters=6, kernel_size=(3, 3), activation='relu', input_shape=(IMG_SIZE,IMG_SIZE,1)))\n",
    "model.add(AveragePooling2D())\n",
    "\n",
    "model.add(Conv2D(filters=16, kernel_size=(3, 3), activation='relu'))\n",
    "model.add(AveragePooling2D())\n",
    "\n",
    "model.add(Flatten())\n",
    "\n",
    "model.add(Dense(units=120, activation='relu'))\n",
    "\n",
    "model.add(Dense(units=84, activation='relu'))\n",
    "\n",
    "model.add(Dense(units=2, activation = 'sigmoid'))\n",
    "\n",
    "model.compile(loss='binary_crossentropy', optimizer='adam', metrics=['accuracy'])\n",
    "\n",
    "print('[LOG] Training CNN')\n",
    "\n",
    "model.fit_generator(generator=datagen,steps_per_epoch=STEP_SIZE,epochs=20)"
   ]
  },
  {
   "cell_type": "code",
   "execution_count": 39,
   "metadata": {},
   "outputs": [
    {
     "data": {
      "text/plain": [
       "array([[0.99999154, 1.        ]], dtype=float32)"
      ]
     },
     "execution_count": 39,
     "metadata": {},
     "output_type": "execute_result"
    }
   ],
   "source": [
    "from keras.preprocessing import image\n",
    "import numpy as np\n",
    "import keras\n",
    "\n",
    "#grayscale=True can also be passed\n",
    "test_image = image.load_img(\"data\\\\False_Images\\\\2.jpg\",color_mode='grayscale', target_size = (100, 100)) \n",
    "test_image = image.img_to_array(test_image)\n",
    "#predict expects an array of images.\n",
    "test_image = np.expand_dims(test_image, axis = 0)\n",
    "\n",
    "p=model.predict(test_image)\n",
    "p"
   ]
  }
 ],
 "metadata": {
  "kernelspec": {
   "display_name": "Python 3",
   "language": "python",
   "name": "python3"
  },
  "language_info": {
   "codemirror_mode": {
    "name": "ipython",
    "version": 3
   },
   "file_extension": ".py",
   "mimetype": "text/x-python",
   "name": "python",
   "nbconvert_exporter": "python",
   "pygments_lexer": "ipython3",
   "version": "3.6.8"
  }
 },
 "nbformat": 4,
 "nbformat_minor": 2
}
